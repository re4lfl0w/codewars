{
 "cells": [
  {
   "cell_type": "markdown",
   "metadata": {},
   "source": [
    "# Design of kata"
   ]
  },
  {
   "cell_type": "markdown",
   "metadata": {},
   "source": [
    "## 궁금한 사항\n",
    "\n",
    "- 문제 폴더를 다 만들고 그 안에 각종 파일들을 다 집어넣을 것인가?\n",
    "- kata - length-of-theline-segment - src\n",
    "- src로 만들고 실행은 command로 할 것인가?\n",
    "- first party 함수를 import 하고 여기에 인자로 [] 넘긴다.\n",
    "  - test_performance(['my', 'my2', 'best', 'clever'])"
   ]
  },
  {
   "cell_type": "code",
   "execution_count": 2,
   "metadata": {
    "collapsed": false
   },
   "outputs": [
    {
     "name": "stdout",
     "output_type": "stream",
     "text": [
      "../\r\n",
      "├── README.md\r\n",
      "└── kata\r\n",
      "    ├── design_of_kata.ipynb\r\n",
      "    ├── length-of-the-line-segment.ipynb\r\n",
      "    ├── slamming-lockers.ipynb\r\n",
      "    └── template.ipynb\r\n",
      "\r\n",
      "1 directory, 5 files\r\n"
     ]
    }
   ],
   "source": [
    "!tree ../"
   ]
  },
  {
   "cell_type": "markdown",
   "metadata": {},
   "source": [
    "- TestCase를 만들고 파일로 저장 후에 테스트를 해야 되는데..\n",
    "- 이걸 어떻게 할 것인가?\n",
    "- 내 솔루션을 저장할 때 Decorator를 써서 할 것인가? 아니면 일일이 함수 이름을 수정할 것인가?\n",
    "- 아무래도 Decorator 만들고 @func('my') 이렇게 하고 \n",
    "  - 프로그램 실행된 시간값 출력해 주고\n",
    "  - 변수로 받아야 한다. 변수 이름은 뭘로 정해줄까? my?\n",
    "  - 변수로 지정할 필요없이, graph 만드는 곳에서 \\*args로 받아서 argument로 받은 것들을 모두 돌려주고 graph까지 출력해 주기\n",
    "  - 이래야 반복 작업이 없을것 같다.\n",
    "- dis.dis 해주는 것도 내가 일일이 함수마다 해줘야 하나? 이것도 자동으로 meta function 만들어서 실행해 주면 되지 않을까?\n",
    "- 딱 하나의 함수를 메타??로 만들어서 모두 자동 실행하고, 그 후에 추가할 내용들이 있을텐데 이건 어떻게 하지?\n",
    "- 흐.. 일단 너무 많은 생각을 하고 있는듯.\n",
    "- 1개만 바뀌어도 "
   ]
  },
  {
   "cell_type": "markdown",
   "metadata": {},
   "source": [
    "## Design\n",
    "\n",
    "- 시간 비교 graph\n",
    "  - 가장 빠른 그래프에 색칠해주기, 그 옆에 2번째 빠른것보다 몇 배 빠르다고까지 보여주기\n",
    "  - 나의 코딩 능력이 얼마나 부족한지 알게 해주기 위한 것"
   ]
  },
  {
   "cell_type": "markdown",
   "metadata": {},
   "source": [
    "## 또 다른 것\n",
    "\n",
    "- 이건 html 버전으로 만들어야겠다.\n",
    "- ipynb로 공개하면 로딩하는 속도가 느리다. html 버전으로 변환해서 완전체로 공개해야지.\n",
    "- 일단은 codewars를 매일 진행하자.\n",
    "- 비교 그래프 보여주고 dis.dis 해주고 profile 해주는걸 라이브러리로 만들어서 공개할 수도 있겠는데?\n",
    "- ipynb는 공개하지 말고 html 버전만 공개하자.\n",
    "  - 굳이 소스를 모두 공개할 필요는 없다.\n",
    "  - 이게 선행되려면 일단 ipynb -> html converter를 먼저 해봐야 한다는 거네\n",
    "  - 일단은 오늘 바로 하기는 좀 그러니..\n",
    "- domain 이름 정할 것\n",
    "  - codewars로 하기는 좀 그런데?\n",
    "  - 나만의 identity를 만들어 갈 수 있는걸로"
   ]
  }
 ],
 "metadata": {
  "kernelspec": {
   "display_name": "Python 3",
   "language": "python",
   "name": "python3"
  },
  "language_info": {
   "codemirror_mode": {
    "name": "ipython",
    "version": 3
   },
   "file_extension": ".py",
   "mimetype": "text/x-python",
   "name": "python",
   "nbconvert_exporter": "python",
   "pygments_lexer": "ipython3",
   "version": "3.4.3"
  }
 },
 "nbformat": 4,
 "nbformat_minor": 0
}
