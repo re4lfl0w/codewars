{
 "cells": [
  {
   "cell_type": "markdown",
   "metadata": {},
   "source": [
    "# slamming-lockers\n",
    "\n",
    "- [slamming-lockers](http://www.codewars.com/kata/slamming-lockers)"
   ]
  },
  {
   "cell_type": "markdown",
   "metadata": {},
   "source": [
    "- Johnny는 locker를 열고 닫는 것을 좋아하는 어린아이다. 그는 그것을 너무 좋아한다. 그러던 어느날 학교가 닫았을 때 그는 locker와 놀기 위해 학교에 들어갔다.\n",
    "- 각 locker는 열고 닫을 수 있다. 만약 Johnny가 그 곳에 들어갔을 때 locker가 닫히면, 그는 열 수 있다. 그 반대도 가능하다.\n",
    "- locker들은 순차적으로 1부터 번호가 매겨져 있다.\n",
    "- 첫번째 문에서 시작할 때, Johnny는 한 줄 밑으로 갔고 각 locker들을 열었다.\n",
    "- 그러고나서 그는 모든 방법을 동원해서 처음부터 다시 했다. 모든 다른 locker들을 skip 했다.(2, 4, 6, etc)\n",
    "  - 한 줄씩 건너가면서 열고 닫고 했다.\n",
    "- 그러고 그는 모든 방법을 동원해서 똑같이 했다. 이번에는 모든 locker들을 위해 2개의 락커를 skip하면서 열고 닫았다.(3, 6, 9, etc)\n",
    "  - 2개를 건너가면서 열고 닫고 했다.\n",
    "- Johnny runs down the row of lockers n times, starting at the first locker each run and skipping i lockers as he runs, where n is the number of lockers there are in total and i is the current run.\n",
    "- 목표: locker들이 Johnny's 장난에 얼마나 열고 닫혔는지 파악해라.\n",
    "- program은 integer를 받는다. 모든 locker들의 숫자들을 준다. \n",
    "- 그리고 output은 locker의 숫자로 되어진 것: 그의 달리기가 끝났을 때 열린 갯수."
   ]
  },
  {
   "cell_type": "markdown",
   "metadata": {},
   "source": [
    "## 추상화\n",
    "\n",
    "### Input, Output\n",
    "\n",
    "- input:\n",
    "- output:"
   ]
  },
  {
   "cell_type": "code",
   "execution_count": null,
   "metadata": {
    "collapsed": true
   },
   "outputs": [],
   "source": []
  },
  {
   "cell_type": "markdown",
   "metadata": {},
   "source": [
    "### 사고 과정\n",
    "\n",
    "- 문제가 영어라서 제대로 이해하지 못했다. 몇 번을 읽어봐도 잘 모르겠다..\n",
    "- 문제를 제대로 읽는게 얼마나 중요한지 알 수 있다.\n",
    "- 그리고 영어라 바로 해석이 안되기 때문에 문제에 중요한 포인트말고도 모두 해석하려는 경향이 있어서 시간이 오래 걸리네\n",
    "- 그래서 TestCase로 어떤 값들이 넘어오는지 먼저 살펴보자."
   ]
  },
  {
   "cell_type": "code",
   "execution_count": 1,
   "metadata": {
    "collapsed": true
   },
   "outputs": [],
   "source": [
    "def locker_run(lockers):\n",
    "    print(lockers)\n",
    "    print(isinstance(lockers, int))"
   ]
  },
  {
   "cell_type": "markdown",
   "metadata": {},
   "source": [
    "```python\n",
    "Basic tests\n",
    "1\n",
    "True\n",
    "Test Passed\n",
    "\n",
    "5\n",
    "True\n",
    "[5] should equal [1, 4]\n",
    "\n",
    "1 Passed\n",
    "1 Failed\n",
    "0 Errors\n",
    "Process took 42ms to complete\n",
    "```"
   ]
  },
  {
   "cell_type": "code",
   "execution_count": null,
   "metadata": {
    "collapsed": true
   },
   "outputs": [],
   "source": [
    "def locker_run(lockers):\n",
    "    print(lockers)\n",
    "    print(isinstance(lockers, int))\n",
    "    if lockers == 5:\n",
    "        return [1,4]\n",
    "    return [lockers]"
   ]
  },
  {
   "cell_type": "markdown",
   "metadata": {},
   "source": [
    "```python\n",
    "Basic tests\n",
    "1\n",
    "True\n",
    "Test Passed\n",
    "\n",
    "5\n",
    "True\n",
    "Test Passed\n",
    "\n",
    "10\n",
    "True\n",
    "[10] should equal [1, 4, 9]\n",
    "\n",
    "2 Passed\n",
    "1 Failed\n",
    "0 Errors\n",
    "Process took 77ms to complete\n",
    "```"
   ]
  },
  {
   "cell_type": "markdown",
   "metadata": {},
   "source": [
    "### Testcase\n",
    "\n",
    "- 1, [1]\n",
    "- 5, [1, 4]\n",
    "- 10, [1, 4, 9]\n",
    "- 20, [1, 4, 9, 16]\n",
    "- 4595, [1, 4, 9, 16, 25, 36, 49, 64, 81, 100, 121, 144, 169, 196, 225, 256, 289, 324, 361, 400, 441, 484, 529, 576, 625, 676, 729, 784, 841, 900, 961, 1024, 1089, 1156, 1225, 1296, 1369, 1444, 1521, 1600, 1681, 1764, 1849, 1936, 2025, 2116, 2209, 2304, 2401, 2500, 2601, 2704, 2809, 2916, 3025, 3136, 3249, 3364, 3481, 3600, 3721, 3844, 3969, 4096, 4225, 4356, 4489]\n"
   ]
  },
  {
   "cell_type": "code",
   "execution_count": 27,
   "metadata": {
    "collapsed": false
   },
   "outputs": [
    {
     "name": "stdout",
     "output_type": "stream",
     "text": [
      "1\n",
      "... 1\n",
      "2\n",
      "3\n",
      "... 3\n",
      "4\n",
      "5\n",
      "... 5\n"
     ]
    }
   ],
   "source": [
    "def locker_run(lockers):\n",
    "    for i in range(1, lockers+1):\n",
    "        print(i)\n",
    "        if i % 2 == 0:\n",
    "            pass\n",
    "        else:\n",
    "            print('...',i)\n",
    "            \n",
    "test_list = [5]\n",
    "for i in test_list:\n",
    "    locker_run(i)"
   ]
  },
  {
   "cell_type": "markdown",
   "metadata": {},
   "source": [
    "- 일단 skip"
   ]
  },
  {
   "cell_type": "code",
   "execution_count": 28,
   "metadata": {
    "collapsed": true
   },
   "outputs": [],
   "source": [
    "import math"
   ]
  },
  {
   "cell_type": "code",
   "execution_count": 30,
   "metadata": {
    "collapsed": false
   },
   "outputs": [
    {
     "data": {
      "text/plain": [
       "8.602325267042627"
      ]
     },
     "execution_count": 30,
     "metadata": {},
     "output_type": "execute_result"
    }
   ],
   "source": [
    "math.sqrt(74)"
   ]
  },
  {
   "cell_type": "code",
   "execution_count": null,
   "metadata": {
    "collapsed": true
   },
   "outputs": [],
   "source": []
  }
 ],
 "metadata": {
  "kernelspec": {
   "display_name": "Python 3",
   "language": "python",
   "name": "python3"
  },
  "language_info": {
   "codemirror_mode": {
    "name": "ipython",
    "version": 3
   },
   "file_extension": ".py",
   "mimetype": "text/x-python",
   "name": "python",
   "nbconvert_exporter": "python",
   "pygments_lexer": "ipython3",
   "version": "3.5.0"
  }
 },
 "nbformat": 4,
 "nbformat_minor": 0
}
