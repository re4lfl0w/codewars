{
 "cells": [
  {
   "cell_type": "markdown",
   "metadata": {},
   "source": [
    "# length-of-the-line-segment\n",
    "\n",
    "- [length-of-the-line-segment](http://www.codewars.com/kata/length-of-the-line-segment)"
   ]
  },
  {
   "cell_type": "code",
   "execution_count": 22,
   "metadata": {
    "collapsed": true
   },
   "outputs": [],
   "source": [
    "from dis import dis"
   ]
  },
  {
   "cell_type": "markdown",
   "metadata": {},
   "source": [
    "## Problem"
   ]
  },
  {
   "cell_type": "code",
   "execution_count": 4,
   "metadata": {
    "collapsed": false
   },
   "outputs": [
    {
     "name": "stdout",
     "output_type": "stream",
     "text": [
      "/Users/re4lfl0w/Documents/_git/codewars\n",
      "/Users/re4lfl0w/Documents/_git/codewars/kata\n"
     ]
    }
   ],
   "source": [
    "# package로 인식을 못해서 어쩔 수 없이 이렇게 import함\n",
    "%cd ..\n",
    "from helper.war import Kata\n",
    "%cd kata/"
   ]
  },
  {
   "cell_type": "code",
   "execution_count": 5,
   "metadata": {
    "collapsed": false,
    "scrolled": true
   },
   "outputs": [
    {
     "name": "stderr",
     "output_type": "stream",
     "text": [
      "2016-10-04 04:29:07: helper.war - INFO - Start func: set_access_key\n",
      "INFO:helper.war:Start func: set_access_key\n"
     ]
    }
   ],
   "source": [
    "kata = Kata()"
   ]
  },
  {
   "cell_type": "code",
   "execution_count": 6,
   "metadata": {
    "collapsed": false,
    "scrolled": false
   },
   "outputs": [
    {
     "name": "stderr",
     "output_type": "stream",
     "text": [
      "2016-10-04 04:29:08: helper.war - INFO - Start func: get_description_in_code_challenge\n",
      "INFO:helper.war:Start func: get_description_in_code_challenge\n",
      "2016-10-04 04:29:08: helper.war - INFO - Start func: set_code_challenge\n",
      "INFO:helper.war:Start func: set_code_challenge\n",
      "2016-10-04 04:29:08: helper.war - INFO - Start func: get_cleaned_challenge\n",
      "INFO:helper.war:Start func: get_cleaned_challenge\n",
      "2016-10-04 04:29:08: helper.war - INFO - challenge: length-of-the-line-segment\n",
      "INFO:helper.war:challenge: length-of-the-line-segment\n",
      "2016-10-04 04:29:09: helper.war - INFO - challenge_json: {'unresolved': {'issues': 0, 'suggestions': 0}, 'createdAt': '2015-09-10T12:32:53Z', 'description': 'Find the length between 2 co-ordinates.  The co-ordinates are made of integers between -20 and 20 and will be given in the form of a 2D array:\\n\\n(0,0) and (5,-7) would be [ [ 0 , 0 ] , [ 5, -7 ] ]\\n\\nThe function must return the answer rounded to 2 decimal places in the form of a string.\\n\\n```javascript\\nlengthOfLine([ [ 0 , 0 ] , [ 5, -7 ] ]); => \"8.60\"\\n```\\n```python\\nlength_of_line([[0, 0], [5, -7]]) => \"8.60\"\\n```\\n```ruby\\nlength_of_line([[0, 0], [5, -7]]) # => \"8.60\"\\n```\\n\\nIf the 2 given co-ordinates are the same, the returned length should be \"0.00\" \\n', 'voteScore': 50, 'totalStars': 14, 'slug': 'length-of-the-line-segment', 'contributorsWanted': True, 'createdBy': {'url': 'https://www.codewars.com/users/JMurphyWeb', 'username': 'JMurphyWeb'}, 'approvedBy': {'url': 'https://www.codewars.com/users/Balkoth', 'username': 'Balkoth'}, 'id': '55f1786c296de4952f000014', 'tags': ['Fundamentals', 'Mathematics', 'Algorithms', 'Logic', 'Numbers', 'Geometry', 'Algebra'], 'category': 'reference', 'languages': ['javascript', 'python', 'ruby'], 'totalCompleted': 785, 'totalAttempts': 1805, 'publishedAt': '2015-09-10T12:32:44Z', 'name': 'Length of the line segment', 'url': 'https://www.codewars.com/kata/length-of-the-line-segment', 'approvedAt': '2015-10-07T18:32:14Z', 'rank': {'id': -7, 'name': '7 kyu', 'color': 'white'}}\n",
      "INFO:helper.war:challenge_json: {'unresolved': {'issues': 0, 'suggestions': 0}, 'createdAt': '2015-09-10T12:32:53Z', 'description': 'Find the length between 2 co-ordinates.  The co-ordinates are made of integers between -20 and 20 and will be given in the form of a 2D array:\\n\\n(0,0) and (5,-7) would be [ [ 0 , 0 ] , [ 5, -7 ] ]\\n\\nThe function must return the answer rounded to 2 decimal places in the form of a string.\\n\\n```javascript\\nlengthOfLine([ [ 0 , 0 ] , [ 5, -7 ] ]); => \"8.60\"\\n```\\n```python\\nlength_of_line([[0, 0], [5, -7]]) => \"8.60\"\\n```\\n```ruby\\nlength_of_line([[0, 0], [5, -7]]) # => \"8.60\"\\n```\\n\\nIf the 2 given co-ordinates are the same, the returned length should be \"0.00\" \\n', 'voteScore': 50, 'totalStars': 14, 'slug': 'length-of-the-line-segment', 'contributorsWanted': True, 'createdBy': {'url': 'https://www.codewars.com/users/JMurphyWeb', 'username': 'JMurphyWeb'}, 'approvedBy': {'url': 'https://www.codewars.com/users/Balkoth', 'username': 'Balkoth'}, 'id': '55f1786c296de4952f000014', 'tags': ['Fundamentals', 'Mathematics', 'Algorithms', 'Logic', 'Numbers', 'Geometry', 'Algebra'], 'category': 'reference', 'languages': ['javascript', 'python', 'ruby'], 'totalCompleted': 785, 'totalAttempts': 1805, 'publishedAt': '2015-09-10T12:32:44Z', 'name': 'Length of the line segment', 'url': 'https://www.codewars.com/kata/length-of-the-line-segment', 'approvedAt': '2015-10-07T18:32:14Z', 'rank': {'id': -7, 'name': '7 kyu', 'color': 'white'}}\n"
     ]
    },
    {
     "name": "stdout",
     "output_type": "stream",
     "text": [
      "Find the length between 2 co-ordinates.  The co-ordinates are made of integers between -20 and 20 and will be given in the form of a 2D array:\n",
      "\n",
      "(0,0) and (5,-7) would be [ [ 0 , 0 ] , [ 5, -7 ] ]\n",
      "\n",
      "The function must return the answer rounded to 2 decimal places in the form of a string.\n",
      "\n",
      "```javascript\n",
      "lengthOfLine([ [ 0 , 0 ] , [ 5, -7 ] ]); => \"8.60\"\n",
      "```\n",
      "```python\n",
      "length_of_line([[0, 0], [5, -7]]) => \"8.60\"\n",
      "```\n",
      "```ruby\n",
      "length_of_line([[0, 0], [5, -7]]) # => \"8.60\"\n",
      "```\n",
      "\n",
      "If the 2 given co-ordinates are the same, the returned length should be \"0.00\" \n",
      "\n"
     ]
    }
   ],
   "source": [
    "challenge_url = 'http://www.codewars.com/kata/length-of-the-line-segment/python'\n",
    "description = kata.get_description_in_code_challenge(challenge_url)\n",
    "print(description)"
   ]
  },
  {
   "cell_type": "code",
   "execution_count": 2,
   "metadata": {
    "collapsed": false,
    "scrolled": true
   },
   "outputs": [
    {
     "data": {
      "text/plain": [
       "5"
      ]
     },
     "execution_count": 2,
     "metadata": {},
     "output_type": "execute_result"
    }
   ],
   "source": [
    "abs(-2-(-7))"
   ]
  },
  {
   "cell_type": "code",
   "execution_count": 3,
   "metadata": {
    "collapsed": false,
    "scrolled": true
   },
   "outputs": [
    {
     "data": {
      "text/plain": [
       "13"
      ]
     },
     "execution_count": 3,
     "metadata": {},
     "output_type": "execute_result"
    }
   ],
   "source": [
    "abs(8-(-5))"
   ]
  },
  {
   "cell_type": "markdown",
   "metadata": {},
   "source": [
    "## Logic\n",
    "\n",
    "- [좌표평면에서 두 점 사이의 거리 | 수학방](http://mathbang.net/138)\n",
    "  - 영어로 써져 있어서 엄청 어려워 보이는데 별거 없다. 그냥 중학교때 배운 좌표평면에서 두 점 사이의 거리 구하는 공식이다...\n",
    "- 첫번째 x값 - 두번째 x값\n",
    "- 첫번째 y값 - 두번째 y값\n",
    "- 그 결과값을 더하고\n",
    "- root 취해준다.\n",
    "- 이게 뭘 하는건지는 확실하지 않다...\n",
    "- 일단 로직이 이렇게 된다는 것을 알 수 있다."
   ]
  },
  {
   "cell_type": "code",
   "execution_count": 6,
   "metadata": {
    "collapsed": false
   },
   "outputs": [
    {
     "data": {
      "text/plain": [
       "[[0, 0], [1, 1]]"
      ]
     },
     "execution_count": 6,
     "metadata": {},
     "output_type": "execute_result"
    }
   ],
   "source": [
    "array = [[0,0],[1,1]]\n",
    "array"
   ]
  },
  {
   "cell_type": "code",
   "execution_count": 7,
   "metadata": {
    "collapsed": false
   },
   "outputs": [
    {
     "data": {
      "text/plain": [
       "[0, 0]"
      ]
     },
     "execution_count": 7,
     "metadata": {},
     "output_type": "execute_result"
    }
   ],
   "source": [
    "a, b = array\n",
    "a"
   ]
  },
  {
   "cell_type": "code",
   "execution_count": 8,
   "metadata": {
    "collapsed": false
   },
   "outputs": [
    {
     "data": {
      "text/plain": [
       "[1, 1]"
      ]
     },
     "execution_count": 8,
     "metadata": {},
     "output_type": "execute_result"
    }
   ],
   "source": [
    "b"
   ]
  },
  {
   "cell_type": "code",
   "execution_count": 10,
   "metadata": {
    "collapsed": false
   },
   "outputs": [
    {
     "data": {
      "text/plain": [
       "1"
      ]
     },
     "execution_count": 10,
     "metadata": {},
     "output_type": "execute_result"
    }
   ],
   "source": [
    "abs(0 - (1)) ** 2"
   ]
  },
  {
   "cell_type": "code",
   "execution_count": 11,
   "metadata": {
    "collapsed": false
   },
   "outputs": [
    {
     "data": {
      "text/plain": [
       "25"
      ]
     },
     "execution_count": 11,
     "metadata": {},
     "output_type": "execute_result"
    }
   ],
   "source": [
    "5 ** 2"
   ]
  },
  {
   "cell_type": "code",
   "execution_count": 14,
   "metadata": {
    "collapsed": true
   },
   "outputs": [],
   "source": [
    "from math import sqrt"
   ]
  },
  {
   "cell_type": "code",
   "execution_count": 15,
   "metadata": {
    "collapsed": false
   },
   "outputs": [
    {
     "data": {
      "text/plain": [
       "5.0"
      ]
     },
     "execution_count": 15,
     "metadata": {},
     "output_type": "execute_result"
    }
   ],
   "source": [
    "sqrt(5 ** 2)"
   ]
  },
  {
   "cell_type": "code",
   "execution_count": 17,
   "metadata": {
    "collapsed": false
   },
   "outputs": [
    {
     "data": {
      "text/plain": [
       "1.4142135623730951"
      ]
     },
     "execution_count": 17,
     "metadata": {},
     "output_type": "execute_result"
    }
   ],
   "source": [
    "sqrt(2)"
   ]
  },
  {
   "cell_type": "code",
   "execution_count": 31,
   "metadata": {
    "collapsed": false
   },
   "outputs": [
    {
     "data": {
      "text/plain": [
       "'1.41'"
      ]
     },
     "execution_count": 31,
     "metadata": {},
     "output_type": "execute_result"
    }
   ],
   "source": [
    "'{:1.3}'.format(sqrt(2))"
   ]
  },
  {
   "cell_type": "code",
   "execution_count": 39,
   "metadata": {
    "collapsed": false
   },
   "outputs": [
    {
     "data": {
      "text/plain": [
       "'18.06'"
      ]
     },
     "execution_count": 39,
     "metadata": {},
     "output_type": "execute_result"
    }
   ],
   "source": [
    "'{:1.2f}'.format(18.0555333)"
   ]
  },
  {
   "cell_type": "markdown",
   "metadata": {},
   "source": [
    "## Source"
   ]
  },
  {
   "cell_type": "markdown",
   "metadata": {},
   "source": [
    "### My Solution"
   ]
  },
  {
   "cell_type": "code",
   "execution_count": 9,
   "metadata": {
    "collapsed": true
   },
   "outputs": [],
   "source": [
    "from math import sqrt\n",
    "\n",
    "\n",
    "def length_of_line_my1(array):\n",
    "#     print(array)\n",
    "    a, b = array\n",
    "#     print(a)\n",
    "#     print(b)\n",
    "    tmp = sum(abs(a[i] - b[i]) ** 2 for i in range(len(array)))\n",
    "    tmp = '{:1.2f}'.format(sqrt(tmp))\n",
    "#     print(tmp)\n",
    "    return tmp"
   ]
  },
  {
   "cell_type": "markdown",
   "metadata": {},
   "source": [
    "#### Refactoring"
   ]
  },
  {
   "cell_type": "code",
   "execution_count": 10,
   "metadata": {
    "collapsed": true
   },
   "outputs": [],
   "source": [
    "from math import sqrt\n",
    "\n",
    "\n",
    "def length_of_line_my2(array):\n",
    "    a, b = array\n",
    "    tmp = sum(abs(a[i] - b[i]) ** 2 for i in range(len(array)))\n",
    "    result = '{:1.2f}'.format(sqrt(tmp))\n",
    "    return result"
   ]
  },
  {
   "cell_type": "code",
   "execution_count": 11,
   "metadata": {
    "collapsed": true
   },
   "outputs": [],
   "source": [
    "from math import sqrt\n",
    "\n",
    "\n",
    "def length_of_line_my3(array):\n",
    "    a, b = array\n",
    "    tmp = sum((a[i] - b[i]) ** 2 for i in range(len(array)))\n",
    "    result = '{:.2f}'.format(sqrt(tmp))\n",
    "    return result"
   ]
  },
  {
   "cell_type": "markdown",
   "metadata": {},
   "source": [
    "#### Realize\n",
    "\n",
    "- abs: 해줄 필요가 없네. 어차피 제곱이 되면 -가 모두 +로 바뀌니. 괜히 opcode만 소모하니 빼주자\n",
    "- format: 1이 안 들어가도 괜찮겠다."
   ]
  },
  {
   "cell_type": "markdown",
   "metadata": {},
   "source": [
    "### Best Practice"
   ]
  },
  {
   "cell_type": "code",
   "execution_count": 12,
   "metadata": {
    "collapsed": true
   },
   "outputs": [],
   "source": [
    "from math import sqrt\n",
    "def length_of_line_best(array):\n",
    "    x1, y1, x2, y2 = array[0][0], array[0][1], array[1][0], array[1][1]\n",
    "    return '{:.2f}'.format((sqrt((x2-x1)**2 + (y2-y1)**2)))"
   ]
  },
  {
   "cell_type": "markdown",
   "metadata": {},
   "source": [
    "### Clever"
   ]
  },
  {
   "cell_type": "code",
   "execution_count": null,
   "metadata": {
    "collapsed": true
   },
   "outputs": [],
   "source": []
  },
  {
   "cell_type": "markdown",
   "metadata": {},
   "source": [
    "### Time Complexity"
   ]
  },
  {
   "cell_type": "code",
   "execution_count": 5,
   "metadata": {
    "collapsed": false,
    "scrolled": true
   },
   "outputs": [
    {
     "name": "stdout",
     "output_type": "stream",
     "text": [
      "100000 loops, best of 3: 5.02 µs per loop\n"
     ]
    }
   ],
   "source": [
    "%timeit length_of_line_my1([[0,0],[1,1]])"
   ]
  },
  {
   "cell_type": "code",
   "execution_count": 6,
   "metadata": {
    "collapsed": false,
    "scrolled": true
   },
   "outputs": [
    {
     "name": "stdout",
     "output_type": "stream",
     "text": [
      "The slowest run took 4.22 times longer than the fastest. This could mean that an intermediate result is being cached \n",
      "100000 loops, best of 3: 4.88 µs per loop\n"
     ]
    }
   ],
   "source": [
    "%timeit length_of_line_my2([[0,0],[1,1]])"
   ]
  },
  {
   "cell_type": "code",
   "execution_count": 7,
   "metadata": {
    "collapsed": false
   },
   "outputs": [
    {
     "name": "stdout",
     "output_type": "stream",
     "text": [
      "The slowest run took 4.27 times longer than the fastest. This could mean that an intermediate result is being cached \n",
      "100000 loops, best of 3: 4.41 µs per loop\n"
     ]
    }
   ],
   "source": [
    "%timeit length_of_line_my3([[0,0],[1,1]])"
   ]
  },
  {
   "cell_type": "code",
   "execution_count": 8,
   "metadata": {
    "collapsed": false
   },
   "outputs": [
    {
     "name": "stdout",
     "output_type": "stream",
     "text": [
      "The slowest run took 5.74 times longer than the fastest. This could mean that an intermediate result is being cached \n",
      "100000 loops, best of 3: 2.47 µs per loop\n"
     ]
    }
   ],
   "source": [
    "%timeit length_of_line_best([[0,0],[1,1]])"
   ]
  },
  {
   "cell_type": "markdown",
   "metadata": {},
   "source": [
    "## Graph\n",
    "\n",
    "- seaborn subplot 문제를 먼저 해결하고 적용할 수 있을듯"
   ]
  },
  {
   "cell_type": "code",
   "execution_count": null,
   "metadata": {
    "collapsed": true
   },
   "outputs": [],
   "source": []
  },
  {
   "cell_type": "code",
   "execution_count": null,
   "metadata": {
    "collapsed": true
   },
   "outputs": [],
   "source": []
  },
  {
   "cell_type": "code",
   "execution_count": null,
   "metadata": {
    "collapsed": true
   },
   "outputs": [],
   "source": []
  },
  {
   "cell_type": "markdown",
   "metadata": {},
   "source": [
    "## TestCase"
   ]
  },
  {
   "cell_type": "code",
   "execution_count": 1,
   "metadata": {
    "collapsed": false,
    "scrolled": true
   },
   "outputs": [
    {
     "data": {
      "text/plain": [
       "'/Users/re4lfl0w/Documents/_git/codewars/kata'"
      ]
     },
     "execution_count": 1,
     "metadata": {},
     "output_type": "execute_result"
    }
   ],
   "source": [
    "# 현재 디렉토리 확인\n",
    "%pwd"
   ]
  },
  {
   "cell_type": "code",
   "execution_count": 7,
   "metadata": {
    "collapsed": false
   },
   "outputs": [
    {
     "name": "stdout",
     "output_type": "stream",
     "text": [
      "/Users/re4lfl0w/Documents/_git/codewars\n",
      "\u001b[1m============================= test session starts ==============================\u001b[0m\n",
      "platform darwin -- Python 3.5.0, pytest-3.0.3, py-1.4.31, pluggy-0.4.0\n",
      "rootdir: /Users/re4lfl0w/Documents/_git/codewars, inifile: pytest.ini\n",
      "plugins: cov-2.3.1\n",
      "collected 32 items \n",
      "\u001b[0m\n",
      "tests/test_length_of_the_line_segment.py ................................\n",
      "\n",
      "---------- coverage: platform darwin, python 3.5.0-final-0 -----------\n",
      "Name                                 Stmts   Miss  Cover\n",
      "--------------------------------------------------------\n",
      "kata/__init__.py                         0      0   100%\n",
      "kata/length_of_the_line_segment.py      19      0   100%\n",
      "--------------------------------------------------------\n",
      "TOTAL                                   19      0   100%\n",
      "\n",
      "\n",
      "\u001b[32m\u001b[1m========================== 32 passed in 0.08 seconds ===========================\u001b[0m\n",
      "/Users/re4lfl0w/Documents/_git/codewars/kata\n"
     ]
    }
   ],
   "source": [
    "# py.test를 실행시키기 위해서 잠시 프로젝트 폴더로 갔다가 다시 돌아오기\n",
    "# 특정 파일을 지정해주는 이유는 tests에 많은 파일들이 쌓이게 되면 혼란스럽게 되니 딱 내가 작성했던 파일만 정확히 작동하는지 확인\n",
    "%cd ..\n",
    "!py.test tests/test_length_of_the_line_segment.py\n",
    "%cd kata"
   ]
  },
  {
   "cell_type": "code",
   "execution_count": null,
   "metadata": {
    "collapsed": true
   },
   "outputs": [],
   "source": [
    "# %load ../tests/test_length_of_the_line_segment.py\n",
    "import pytest\n",
    "\n",
    "from kata.length_of_the_line_segment import (length_of_line_my1, length_of_line_my2,\n",
    "                                             length_of_line_my3, length_of_line_best)\n",
    "\n",
    "\n",
    "test_data = [\n",
    "        ([[0, 0], [1, 1]], \"1.41\"),\n",
    "        ([[0, 0], [-5, -6]], \"7.81\"),\n",
    "        ([[0, 0], [10, 15]], \"18.03\"),\n",
    "        ([[0, 0], [5, 1]], \"5.10\"),\n",
    "        ([[0, 0], [5, 4]], \"6.40\"),\n",
    "        ([[0, 0], [-7, 4]], \"8.06\"),\n",
    "        ([[0, 0], [0, 0]], \"0.00\"),\n",
    "        ([[-3, 4], [10, 5]], \"13.04\"),\n",
    "    ]\n",
    "\n",
    "\n",
    "class TestClass(object):\n",
    "    @pytest.mark.parametrize('input_, expected', test_data)\n",
    "    def test_length_of_the_line_segment_my1(self, input_, expected):\n",
    "        assert length_of_line_my1(input_) == expected\n",
    "\n",
    "    @pytest.mark.parametrize('input_, expected', test_data)\n",
    "    def test_length_of_the_line_segment_my2(self, input_, expected):\n",
    "        assert length_of_line_my2(input_) == expected\n",
    "\n",
    "    @pytest.mark.parametrize('input_, expected', test_data)\n",
    "    def test_length_of_the_line_segment_my3(self, input_, expected):\n",
    "        assert length_of_line_my3(input_) == expected\n",
    "\n",
    "    @pytest.mark.parametrize('input_, expected', test_data)\n",
    "    def test_length_of_the_line_segment_best(self, input_, expected):\n",
    "        assert length_of_line_best(input_) == expected\n",
    "\n"
   ]
  },
  {
   "cell_type": "markdown",
   "metadata": {},
   "source": [
    "## Profile"
   ]
  },
  {
   "cell_type": "code",
   "execution_count": null,
   "metadata": {
    "collapsed": true
   },
   "outputs": [],
   "source": []
  },
  {
   "cell_type": "markdown",
   "metadata": {},
   "source": [
    "### Disassemble"
   ]
  },
  {
   "cell_type": "code",
   "execution_count": 17,
   "metadata": {
    "collapsed": false
   },
   "outputs": [
    {
     "name": "stdout",
     "output_type": "stream",
     "text": [
      "  6           0 LOAD_FAST                0 (array)\n",
      "              3 UNPACK_SEQUENCE          2\n",
      "              6 STORE_DEREF              0 (a)\n",
      "              9 STORE_DEREF              1 (b)\n",
      "\n",
      "  9          12 LOAD_GLOBAL              0 (sum)\n",
      "             15 LOAD_CLOSURE             0 (a)\n",
      "             18 LOAD_CLOSURE             1 (b)\n",
      "             21 BUILD_TUPLE              2\n",
      "             24 LOAD_CONST               1 (<code object <genexpr> at 0x108a995d0, file \"<ipython-input-9-e89f8f7582f9>\", line 9>)\n",
      "             27 LOAD_CONST               2 ('length_of_line_my1.<locals>.<genexpr>')\n",
      "             30 MAKE_CLOSURE             0\n",
      "             33 LOAD_GLOBAL              1 (range)\n",
      "             36 LOAD_GLOBAL              2 (len)\n",
      "             39 LOAD_FAST                0 (array)\n",
      "             42 CALL_FUNCTION            1 (1 positional, 0 keyword pair)\n",
      "             45 CALL_FUNCTION            1 (1 positional, 0 keyword pair)\n",
      "             48 GET_ITER\n",
      "             49 CALL_FUNCTION            1 (1 positional, 0 keyword pair)\n",
      "             52 CALL_FUNCTION            1 (1 positional, 0 keyword pair)\n",
      "             55 STORE_FAST               1 (tmp)\n",
      "\n",
      " 10          58 LOAD_CONST               3 ('{:1.2f}')\n",
      "             61 LOAD_ATTR                3 (format)\n",
      "             64 LOAD_GLOBAL              4 (sqrt)\n",
      "             67 LOAD_FAST                1 (tmp)\n",
      "             70 CALL_FUNCTION            1 (1 positional, 0 keyword pair)\n",
      "             73 CALL_FUNCTION            1 (1 positional, 0 keyword pair)\n",
      "             76 STORE_FAST               1 (tmp)\n",
      "\n",
      " 12          79 LOAD_FAST                1 (tmp)\n",
      "             82 RETURN_VALUE\n"
     ]
    }
   ],
   "source": [
    "dis(length_of_line_my1)"
   ]
  },
  {
   "cell_type": "code",
   "execution_count": 18,
   "metadata": {
    "collapsed": false
   },
   "outputs": [
    {
     "name": "stdout",
     "output_type": "stream",
     "text": [
      "  5           0 LOAD_FAST                0 (array)\n",
      "              3 UNPACK_SEQUENCE          2\n",
      "              6 STORE_DEREF              0 (a)\n",
      "              9 STORE_DEREF              1 (b)\n",
      "\n",
      "  6          12 LOAD_GLOBAL              0 (sum)\n",
      "             15 LOAD_CLOSURE             0 (a)\n",
      "             18 LOAD_CLOSURE             1 (b)\n",
      "             21 BUILD_TUPLE              2\n",
      "             24 LOAD_CONST               1 (<code object <genexpr> at 0x108a99780, file \"<ipython-input-10-ec497fa48565>\", line 6>)\n",
      "             27 LOAD_CONST               2 ('length_of_line_my2.<locals>.<genexpr>')\n",
      "             30 MAKE_CLOSURE             0\n",
      "             33 LOAD_GLOBAL              1 (range)\n",
      "             36 LOAD_GLOBAL              2 (len)\n",
      "             39 LOAD_FAST                0 (array)\n",
      "             42 CALL_FUNCTION            1 (1 positional, 0 keyword pair)\n",
      "             45 CALL_FUNCTION            1 (1 positional, 0 keyword pair)\n",
      "             48 GET_ITER\n",
      "             49 CALL_FUNCTION            1 (1 positional, 0 keyword pair)\n",
      "             52 CALL_FUNCTION            1 (1 positional, 0 keyword pair)\n",
      "             55 STORE_FAST               1 (tmp)\n",
      "\n",
      "  7          58 LOAD_CONST               3 ('{:1.2f}')\n",
      "             61 LOAD_ATTR                3 (format)\n",
      "             64 LOAD_GLOBAL              4 (sqrt)\n",
      "             67 LOAD_FAST                1 (tmp)\n",
      "             70 CALL_FUNCTION            1 (1 positional, 0 keyword pair)\n",
      "             73 CALL_FUNCTION            1 (1 positional, 0 keyword pair)\n",
      "             76 STORE_FAST               2 (result)\n",
      "\n",
      "  8          79 LOAD_FAST                2 (result)\n",
      "             82 RETURN_VALUE\n"
     ]
    }
   ],
   "source": [
    "dis(length_of_line_my2)"
   ]
  },
  {
   "cell_type": "code",
   "execution_count": 19,
   "metadata": {
    "collapsed": false
   },
   "outputs": [
    {
     "name": "stdout",
     "output_type": "stream",
     "text": [
      "  5           0 LOAD_FAST                0 (array)\n",
      "              3 UNPACK_SEQUENCE          2\n",
      "              6 STORE_DEREF              0 (a)\n",
      "              9 STORE_DEREF              1 (b)\n",
      "\n",
      "  6          12 LOAD_GLOBAL              0 (sum)\n",
      "             15 LOAD_CLOSURE             0 (a)\n",
      "             18 LOAD_CLOSURE             1 (b)\n",
      "             21 BUILD_TUPLE              2\n",
      "             24 LOAD_CONST               1 (<code object <genexpr> at 0x108a9cc90, file \"<ipython-input-11-72c68eaba54e>\", line 6>)\n",
      "             27 LOAD_CONST               2 ('length_of_line_my3.<locals>.<genexpr>')\n",
      "             30 MAKE_CLOSURE             0\n",
      "             33 LOAD_GLOBAL              1 (range)\n",
      "             36 LOAD_GLOBAL              2 (len)\n",
      "             39 LOAD_FAST                0 (array)\n",
      "             42 CALL_FUNCTION            1 (1 positional, 0 keyword pair)\n",
      "             45 CALL_FUNCTION            1 (1 positional, 0 keyword pair)\n",
      "             48 GET_ITER\n",
      "             49 CALL_FUNCTION            1 (1 positional, 0 keyword pair)\n",
      "             52 CALL_FUNCTION            1 (1 positional, 0 keyword pair)\n",
      "             55 STORE_FAST               1 (tmp)\n",
      "\n",
      "  7          58 LOAD_CONST               3 ('{:.2f}')\n",
      "             61 LOAD_ATTR                3 (format)\n",
      "             64 LOAD_GLOBAL              4 (sqrt)\n",
      "             67 LOAD_FAST                1 (tmp)\n",
      "             70 CALL_FUNCTION            1 (1 positional, 0 keyword pair)\n",
      "             73 CALL_FUNCTION            1 (1 positional, 0 keyword pair)\n",
      "             76 STORE_FAST               2 (result)\n",
      "\n",
      "  8          79 LOAD_FAST                2 (result)\n",
      "             82 RETURN_VALUE\n"
     ]
    }
   ],
   "source": [
    "dis(length_of_line_my3)"
   ]
  },
  {
   "cell_type": "code",
   "execution_count": 20,
   "metadata": {
    "collapsed": false
   },
   "outputs": [
    {
     "name": "stdout",
     "output_type": "stream",
     "text": [
      "  3           0 LOAD_FAST                0 (array)\n",
      "              3 LOAD_CONST               1 (0)\n",
      "              6 BINARY_SUBSCR\n",
      "              7 LOAD_CONST               1 (0)\n",
      "             10 BINARY_SUBSCR\n",
      "             11 LOAD_FAST                0 (array)\n",
      "             14 LOAD_CONST               1 (0)\n",
      "             17 BINARY_SUBSCR\n",
      "             18 LOAD_CONST               2 (1)\n",
      "             21 BINARY_SUBSCR\n",
      "             22 LOAD_FAST                0 (array)\n",
      "             25 LOAD_CONST               2 (1)\n",
      "             28 BINARY_SUBSCR\n",
      "             29 LOAD_CONST               1 (0)\n",
      "             32 BINARY_SUBSCR\n",
      "             33 LOAD_FAST                0 (array)\n",
      "             36 LOAD_CONST               2 (1)\n",
      "             39 BINARY_SUBSCR\n",
      "             40 LOAD_CONST               2 (1)\n",
      "             43 BINARY_SUBSCR\n",
      "             44 BUILD_TUPLE              4\n",
      "             47 UNPACK_SEQUENCE          4\n",
      "             50 STORE_FAST               1 (x1)\n",
      "             53 STORE_FAST               2 (y1)\n",
      "             56 STORE_FAST               3 (x2)\n",
      "             59 STORE_FAST               4 (y2)\n",
      "\n",
      "  4          62 LOAD_CONST               3 ('{:.2f}')\n",
      "             65 LOAD_ATTR                0 (format)\n",
      "             68 LOAD_GLOBAL              1 (sqrt)\n",
      "             71 LOAD_FAST                3 (x2)\n",
      "             74 LOAD_FAST                1 (x1)\n",
      "             77 BINARY_SUBTRACT\n",
      "             78 LOAD_CONST               4 (2)\n",
      "             81 BINARY_POWER\n",
      "             82 LOAD_FAST                4 (y2)\n",
      "             85 LOAD_FAST                2 (y1)\n",
      "             88 BINARY_SUBTRACT\n",
      "             89 LOAD_CONST               4 (2)\n",
      "             92 BINARY_POWER\n",
      "             93 BINARY_ADD\n",
      "             94 CALL_FUNCTION            1 (1 positional, 0 keyword pair)\n",
      "             97 CALL_FUNCTION            1 (1 positional, 0 keyword pair)\n",
      "            100 RETURN_VALUE\n"
     ]
    }
   ],
   "source": [
    "dis(length_of_line_best)"
   ]
  },
  {
   "cell_type": "code",
   "execution_count": null,
   "metadata": {
    "collapsed": true
   },
   "outputs": [],
   "source": []
  },
  {
   "cell_type": "markdown",
   "metadata": {},
   "source": [
    "## References\n",
    "\n",
    "- [length of a line segment \\- Google 검색](https://www.google.co.kr/search?num=100&newwindow=1&hl=ko&q=length+of+a+line+segment)\n",
    "- [Length of a Line Segment \\- Free Math Help](http://www.freemathhelp.com/length-line-segment.html)\n",
    "- [PyFormat: Using % and .format() for great good!](https://pyformat.info/): Padding numbers에 힌트\n",
    "- [Python Bytecode: Fun with dis - Allison Kaptur](http://akaptur.com/blog/2013/08/14/python-bytecode-fun-with-dis/): Bytecode 어떻게 분석하는지?"
   ]
  }
 ],
 "metadata": {
  "kernelspec": {
   "display_name": "Python 3",
   "language": "python",
   "name": "python3"
  },
  "language_info": {
   "codemirror_mode": {
    "name": "ipython",
    "version": 3
   },
   "file_extension": ".py",
   "mimetype": "text/x-python",
   "name": "python",
   "nbconvert_exporter": "python",
   "pygments_lexer": "ipython3",
   "version": "3.5.0"
  }
 },
 "nbformat": 4,
 "nbformat_minor": 0
}
