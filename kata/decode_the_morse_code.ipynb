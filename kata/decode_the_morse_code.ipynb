{
 "cells": [
  {
   "cell_type": "markdown",
   "metadata": {},
   "source": [
    "# decode the morse code\n",
    "\n",
    "- Kata link"
   ]
  },
  {
   "cell_type": "code",
   "execution_count": 1,
   "metadata": {
    "collapsed": true
   },
   "outputs": [],
   "source": [
    "from IPython.display import HTML"
   ]
  },
  {
   "cell_type": "code",
   "execution_count": 11,
   "metadata": {
    "collapsed": false
   },
   "outputs": [
    {
     "name": "stdout",
     "output_type": "stream",
     "text": [
      "/Users/re4lfl0w/Documents/_git/codewars\n",
      "/Users/re4lfl0w/Documents/_git/codewars/kata\n"
     ]
    }
   ],
   "source": [
    "%cd ..\n",
    "from helper.war import Kata\n",
    "%cd kata/"
   ]
  },
  {
   "cell_type": "code",
   "execution_count": 12,
   "metadata": {
    "collapsed": false
   },
   "outputs": [
    {
     "name": "stderr",
     "output_type": "stream",
     "text": [
      "2016-10-06 22:50:45: helper.war - INFO - Start func: set_access_key\n"
     ]
    }
   ],
   "source": [
    "kata = Kata()"
   ]
  },
  {
   "cell_type": "code",
   "execution_count": 13,
   "metadata": {
    "collapsed": false
   },
   "outputs": [
    {
     "name": "stderr",
     "output_type": "stream",
     "text": [
      "2016-10-06 22:51:29: helper.war - INFO - Start func: get_description_in_code_challenge\n",
      "2016-10-06 22:51:29: helper.war - INFO - Start func: set_code_challenge\n",
      "2016-10-06 22:51:29: helper.war - INFO - Start func: get_cleaned_challenge\n",
      "2016-10-06 22:51:29: helper.war - INFO - challenge: decode-the-morse-code\n",
      "2016-10-06 22:51:31: helper.war - INFO - challenge_json: {'unresolved': {'issues': 0, 'suggestions': 3}, 'category': 'algorithms', 'totalStars': 391, 'approvedAt': '2015-02-02T19:12:12Z', 'slug': 'decode-the-morse-code', 'tags': ['Algorithms'], 'rank': {'color': 'yellow', 'id': -6, 'name': '6 kyu'}, 'createdBy': {'username': 'jolaf', 'url': 'https://www.codewars.com/users/jolaf'}, 'totalCompleted': 5567, 'languages': ['python', 'javascript', 'ruby', 'java', 'csharp'], 'publishedAt': '2015-01-15T02:40:31Z', 'id': '54b724efac3d5402db00065e', 'description': '<div style=\"border:1px solid;position:relative;padding:1ex 1ex 1ex 11.1em;\"><div style=\"position:absolute;left:0;top:0;bottom:0; width:10em; padding:1ex;text-align:center;border:1px solid;margin:0 1ex 0 0;color:#000;background-color:#eee;font-variant:small-caps\">Part of Series 1/3</div><div>This kata is part of a series on the Morse code. After you solve this kata, you may move to the [next one](/kata/decode-the-morse-code-advanced).</div></div><br>In this kata you have to write a simple <a href=\"https://en.wikipedia.org/wiki/Morse_code\">Morse code</a> decoder. While the Morse code is now mostly superceded by voice and digital data communication channels, it still has its use in some applications around the world.\\n\\nThe Morse code encodes every character as a sequence of \"dots\" and \"dashes\". For example, the letter <code>A</code> is coded as <code>·−</code>, letter <code>Q</code> is coded as <code>−−·−</code>, and digit <code>1</code> is coded as <code>·−−−</code>. The Morse code is case-insensitive, traditionally capital letters are used. When the message is written in Morse code, a single space is used to separate the character codes and 3 spaces are used to separate words. For example, the message <code>HEY JUDE</code> in Morse code is <code>···· · −·−− \\xa0 ·−−− ··− −·· ·</code>.\\n\\n**NOTE:** Extra spaces before or after the code have no meaning and should be ignored.\\n\\nIn addition to letters, digits and some punctuation, there are some special service codes, the most notorious of those is the international distress signal <a href=\"https://en.wikipedia.org/wiki/SOS\">SOS</a> (that was first issued by <a href=\"https://en.wikipedia.org/wiki/RMS_Titanic\">Titanic</a>), that is coded as <code>···−−−···</code>. These special codes are treated as single special characters, and usually are transmitted as separate words.\\n\\nYour task is to implement a function <code>decodeMorse(morseCode)</code>, that would take the morse code as input and return a decoded human-readable string.\\n\\nFor example:\\n\\n```python\\ndecodeMorse(\\'.... . -.--   .--- ..- -.. .\\')\\n#should return \"HEY JUDE\"\\n```\\n```ruby\\ndecodeMorse(\\'.... . -.--   .--- ..- -.. .\\')\\n#should return \"HEY JUDE\"\\n```\\n```javascript\\ndecodeMorse(\\'.... . -.--   .--- ..- -.. .\\')\\n//should return \"HEY JUDE\"\\n```\\n```java\\nMorseCodeDecoder.decode(\".... . -.--   .--- ..- -.. .\")\\n//should return \"HEY JUDE\"\\n```\\n```cs\\nMorseCodeDecoder.Decode(\".... . -.--   .--- ..- -.. .\");\\n//should return \"HEY JUDE\"\\n```\\n\\nThe Morse code table is preloaded for you as <code>MORSE_CODE</code> dictionary, feel free to use it. In Java, the table can be accessed like this: <code>MorseCode.get(\\'.--\\')</code>. In C#, the preloaded Dictionary can be accessed like this: `MorseCode.Get(\\'.--\\');`.\\n\\nAll the test strings would contain valid Morse code, so you may skip checking for errors and exceptions.  \\nIn C#, tests will fail if the solution code throws an exception. Please keep that in mind. (This is mostly because else the engine would simply ignore the tests, resulting in a \"valid\" solution.)\\n\\nGood luck!\\n\\nAfter you complete this kata, you may try yourself at <a href=\"http://www.codewars.com/kata/decode-the-morse-code-advanced\">Decode the Morse code, advanced</a>.\\n', 'url': 'https://www.codewars.com/kata/decode-the-morse-code', 'totalAttempts': 48068, 'contributorsWanted': True, 'name': 'Decode the Morse code ', 'voteScore': 382, 'approvedBy': {'username': 'jhoffner', 'url': 'https://www.codewars.com/users/jhoffner'}, 'createdAt': '2015-01-15T02:24:47Z'}\n"
     ]
    }
   ],
   "source": [
    "challenge_url = 'decode-the-morse-code'\n",
    "description = kata.get_description_in_code_challenge(challenge_url)"
   ]
  },
  {
   "cell_type": "code",
   "execution_count": 14,
   "metadata": {
    "collapsed": false
   },
   "outputs": [
    {
     "data": {
      "text/html": [
       "<div style=\"border:1px solid;position:relative;padding:1ex 1ex 1ex 11.1em;\"><div style=\"position:absolute;left:0;top:0;bottom:0; width:10em; padding:1ex;text-align:center;border:1px solid;margin:0 1ex 0 0;color:#000;background-color:#eee;font-variant:small-caps\">Part of Series 1/3</div><div>This kata is part of a series on the Morse code. After you solve this kata, you may move to the [next one](/kata/decode-the-morse-code-advanced).</div></div><br>In this kata you have to write a simple <a href=\"https://en.wikipedia.org/wiki/Morse_code\">Morse code</a> decoder. While the Morse code is now mostly superceded by voice and digital data communication channels, it still has its use in some applications around the world.\n",
       "\n",
       "The Morse code encodes every character as a sequence of \"dots\" and \"dashes\". For example, the letter <code>A</code> is coded as <code>·−</code>, letter <code>Q</code> is coded as <code>−−·−</code>, and digit <code>1</code> is coded as <code>·−−−</code>. The Morse code is case-insensitive, traditionally capital letters are used. When the message is written in Morse code, a single space is used to separate the character codes and 3 spaces are used to separate words. For example, the message <code>HEY JUDE</code> in Morse code is <code>···· · −·−−   ·−−− ··− −·· ·</code>.\n",
       "\n",
       "**NOTE:** Extra spaces before or after the code have no meaning and should be ignored.\n",
       "\n",
       "In addition to letters, digits and some punctuation, there are some special service codes, the most notorious of those is the international distress signal <a href=\"https://en.wikipedia.org/wiki/SOS\">SOS</a> (that was first issued by <a href=\"https://en.wikipedia.org/wiki/RMS_Titanic\">Titanic</a>), that is coded as <code>···−−−···</code>. These special codes are treated as single special characters, and usually are transmitted as separate words.\n",
       "\n",
       "Your task is to implement a function <code>decodeMorse(morseCode)</code>, that would take the morse code as input and return a decoded human-readable string.\n",
       "\n",
       "For example:\n",
       "\n",
       "```python\n",
       "decodeMorse('.... . -.--   .--- ..- -.. .')\n",
       "#should return \"HEY JUDE\"\n",
       "```\n",
       "```ruby\n",
       "decodeMorse('.... . -.--   .--- ..- -.. .')\n",
       "#should return \"HEY JUDE\"\n",
       "```\n",
       "```javascript\n",
       "decodeMorse('.... . -.--   .--- ..- -.. .')\n",
       "//should return \"HEY JUDE\"\n",
       "```\n",
       "```java\n",
       "MorseCodeDecoder.decode(\".... . -.--   .--- ..- -.. .\")\n",
       "//should return \"HEY JUDE\"\n",
       "```\n",
       "```cs\n",
       "MorseCodeDecoder.Decode(\".... . -.--   .--- ..- -.. .\");\n",
       "//should return \"HEY JUDE\"\n",
       "```\n",
       "\n",
       "The Morse code table is preloaded for you as <code>MORSE_CODE</code> dictionary, feel free to use it. In Java, the table can be accessed like this: <code>MorseCode.get('.--')</code>. In C#, the preloaded Dictionary can be accessed like this: `MorseCode.Get('.--');`.\n",
       "\n",
       "All the test strings would contain valid Morse code, so you may skip checking for errors and exceptions.  \n",
       "In C#, tests will fail if the solution code throws an exception. Please keep that in mind. (This is mostly because else the engine would simply ignore the tests, resulting in a \"valid\" solution.)\n",
       "\n",
       "Good luck!\n",
       "\n",
       "After you complete this kata, you may try yourself at <a href=\"http://www.codewars.com/kata/decode-the-morse-code-advanced\">Decode the Morse code, advanced</a>.\n"
      ],
      "text/plain": [
       "<IPython.core.display.HTML object>"
      ]
     },
     "execution_count": 14,
     "metadata": {},
     "output_type": "execute_result"
    }
   ],
   "source": [
    "HTML(description)"
   ]
  },
  {
   "cell_type": "markdown",
   "metadata": {},
   "source": [
    "## Logic\n",
    "\n",
    "- morse code를 직접 만들어 보기?!\n",
    "- [Code](http://www.yes24.com/24/goods/16667186?scode=032&OzSrank=10) 책에서 느낀 찐한 감정을 느껴봅시다!\n",
    "- 3단계까지 있어서 약간 어려울 것 같다.\n",
    "- Morse Code 1단계는 모스 코드 dictionary에 있는걸 그대로 번역해서 보여주면 된다."
   ]
  },
  {
   "cell_type": "code",
   "execution_count": 21,
   "metadata": {
    "collapsed": true
   },
   "outputs": [],
   "source": [
    "import string"
   ]
  },
  {
   "cell_type": "code",
   "execution_count": 10,
   "metadata": {
    "collapsed": false
   },
   "outputs": [
    {
     "name": "stdout",
     "output_type": "stream",
     "text": [
      "A=,\n",
      "B=,\n",
      "C=,\n",
      "D=,\n",
      "E=,\n",
      "F=,\n",
      "G=,\n",
      "H=,\n",
      "I=,\n",
      "J=,\n",
      "K=,\n",
      "L=,\n",
      "M=,\n",
      "N=,\n",
      "O=,\n",
      "P=,\n",
      "Q=,\n",
      "R=,\n",
      "S=,\n",
      "T=,\n",
      "U=,\n",
      "V=,\n",
      "W=,\n",
      "X=,\n",
      "Y=,\n",
      "Z=,\n"
     ]
    }
   ],
   "source": [
    "# 이런식으로 사전을 만들었는데 헛수고.. dictionary에서 키를 특수문자와 숫자로 만들 수 없었음\n",
    "for ele in string.ascii_uppercase:\n",
    "    print('{}=,'.format(ele))"
   ]
  },
  {
   "cell_type": "markdown",
   "metadata": {},
   "source": [
    "### 진행하면서 부딪힌 문제점\n",
    "\n",
    "#### space로 morse code 구분\n",
    "\n",
    "- space가 2개의 의미로 쓰여서 정규표현식으로 판단하기가 힘드네.\n",
    "  1. 단어간 분리\n",
    "  2. space 연속 3개면 실제 space\n",
    "\n",
    "#### SOS 같이 예외 규정이 있는 것\n",
    "\n",
    "#### dictionary에 없는 단어 왔을 때 error 처리\n",
    "\n",
    "#### punctuation은 어떻게 처리하나?\n",
    "\n",
    "- 결국 Code 책을 펴게 만드네...(p. 19) 특수문자도 있네.\n",
    "- 모스부호에 특수문자 정의가 되어 있는데 wiki 오른쪽 사진만 보고 ascii code만 변환했음.. 나중에 특수문자에서 Error가 발생해서 TestCase 추가함. codewars에서 돌려봐서 알았던거지. 개인적으로 추가한건 아니다."
   ]
  },
  {
   "cell_type": "markdown",
   "metadata": {},
   "source": [
    "## Source"
   ]
  },
  {
   "cell_type": "markdown",
   "metadata": {},
   "source": [
    "### My Solution"
   ]
  },
  {
   "cell_type": "code",
   "execution_count": null,
   "metadata": {
    "collapsed": false
   },
   "outputs": [],
   "source": [
    "# %load decode_the_morse_code.py\n",
    "import re\n",
    "\n",
    "MORSE_CODE_DIC = {\n",
    "    # Uppercase\n",
    "    '.-': 'A',\n",
    "    '-...': 'B',\n",
    "    '-.-.': 'C',\n",
    "    '-..': 'D',\n",
    "    '.': 'E',\n",
    "    '..-.': 'F',\n",
    "    '--.': 'G',\n",
    "    '....': 'H',\n",
    "    '..': 'I',\n",
    "    '.---': 'J',\n",
    "    '-.-': 'K',\n",
    "    '.-..': 'L',\n",
    "    '--': 'M',\n",
    "    '-.': 'N',\n",
    "    '---': 'O',\n",
    "    '.--.': 'P',\n",
    "    '--.-': 'Q',\n",
    "    '.-.': 'R',\n",
    "    '...': 'S',\n",
    "    '-': 'T',\n",
    "    '..-': 'U',\n",
    "    '...-': 'V',\n",
    "    '.--': 'W',\n",
    "    '-..-': 'X',\n",
    "    '-.--': 'Y',\n",
    "    '--..': 'Z',\n",
    "\n",
    "    # Numbers\n",
    "    '-----': '0',\n",
    "    '.----': '1',\n",
    "    '..---': '2',\n",
    "    '...--': '3',\n",
    "    '....-': '4',\n",
    "    '.....': '5',\n",
    "    '-....': '6',\n",
    "    '--...': '7',\n",
    "    '---..': '8',\n",
    "    '----.': '9',\n",
    "\n",
    "    # Punctuations\n",
    "    '.-.-.-': '.',\n",
    "    '--..--': ',',\n",
    "    '..--..': '?',\n",
    "    '.----.': \"'\",\n",
    "    '-.-.--': '!',\n",
    "    '-..-.': '/',\n",
    "    '-.--.': '(',\n",
    "    '-.--.-': ')',\n",
    "    '.-...': '&',\n",
    "    '---...': ':',\n",
    "    '-.-.-.': ';',\n",
    "    '-...-': '=',\n",
    "    '.-.-.': '+',\n",
    "    '-....-': '-',\n",
    "    '..--.-': '_',\n",
    "    '.-..-.': '\"',\n",
    "    '...-..-': '$',\n",
    "    '.--.-.': '@',\n",
    "    # Special Case.\n",
    "    '...---...':'SOS',\n",
    "    # Spaces\n",
    "    '': ' ',\n",
    "}\n",
    "\n",
    "MORSE_CODE = {'.-...': '&', '--..--': ',', '....-': '4', '.....': '5', '...---...': 'SOS', '-...': 'B', '-..-': 'X', '.-.': 'R', '.--': 'W', '..---': '2', '.-': 'A', '..': 'I', '..-.': 'F', '.': 'E', '.-..': 'L', '...': 'S', '..-': 'U', '..--..': '?', '.----': '1', '-.-': 'K', '-..': 'D', '-....': '6', '-...-': '=', '---': 'O', '.--.': 'P', '.-.-.-': '.', '--': 'M', '-.': 'N', '....': 'H', '.----.': \"'\", '...-': 'V', '--...': '7', '-.-.-.': ';', '-....-': '-', '..--.-': '_', '-.--.-': ')', '-.-.--': '!', '--.': 'G', '--.-': 'Q', '--..': 'Z', '-..-.': '/', '.-.-.': '+', '-.-.': 'C', '---...': ':', '-.--': 'Y', '-': 'T', '.--.-.': '@', '...-..-': '$', '.---': 'J', '-----': '0', '----.': '9', '.-..-.': '\"', '-.--.': '(', '---..': '8', '...--': '3'}\n",
    "\n",
    "\n",
    "def decode_morse_my1(morse_code):\n",
    "    morse_code = re.split('\\s', morse_code.strip())\n",
    "    str_list = []\n",
    "    # space 2개가 남아서 꼼수로 처리하려고 몸부리 친 모습..\n",
    "    i = 0\n",
    "    for ele in morse_code:\n",
    "        if ele == '':\n",
    "            i += 1\n",
    "        if i == 2:\n",
    "            i = 0\n",
    "            continue\n",
    "        str_list.append(MORSE_CODE_DIC.get(ele))\n",
    "    return ''.join([ele for ele in str_list if ele is not None])\n",
    "\n",
    "\n",
    "def decode_morse_best(morse_sequence):\n",
    "    words = []\n",
    "    for morse_word in morse_sequence.split('   '): # 단어간 구분: space 3개\n",
    "        word = ''.join(MORSE_CODE.get(morse_char, '') for morse_char in morse_word.split(' ')) # 글자간 구분: space 1개\n",
    "        if word:\n",
    "            words.append(word)\n",
    "    return ' '.join(words) # word 단위로 담았기 때문에 마지막에 단어간 space 추가"
   ]
  },
  {
   "cell_type": "markdown",
   "metadata": {},
   "source": [
    "### Best Practice"
   ]
  },
  {
   "cell_type": "markdown",
   "metadata": {},
   "source": [
    "- 아 역시 저렇게 편하게 하는 방법이 있었어.\n",
    "- 왜 저렇게 생각을 못했을까?\n",
    "- 3 spaces는 word를 구분하는 단위니까 word를 먼저 구분하고 그 다음에 letter 단위로 분석하면 되잖냐?!! 이 생각대로 했으면 best solution과 거의 비슷하게 풀었을텐데. 어쩐지 내가 하는게 너무 삽질 같았어.. i를 써서 3space를 구분할 때부터 뭔가 삐긋거렸음..\n",
    "- 문제 정의를 잘 해야 한다. 문제 정의를 잘못하면 그때부터 꼬여"
   ]
  },
  {
   "cell_type": "markdown",
   "metadata": {},
   "source": [
    "## TestCase"
   ]
  },
  {
   "cell_type": "code",
   "execution_count": 26,
   "metadata": {
    "collapsed": false
   },
   "outputs": [
    {
     "name": "stdout",
     "output_type": "stream",
     "text": [
      "/Users/re4lfl0w/Documents/_git/codewars\n",
      "\u001b[1m============================= test session starts ==============================\u001b[0m\n",
      "platform darwin -- Python 3.5.0, pytest-3.0.3, py-1.4.31, pluggy-0.4.0\n",
      "rootdir: /Users/re4lfl0w/Documents/_git/codewars, inifile: pytest.ini\n",
      "plugins: cov-2.3.1\n",
      "collected 14 items \n",
      "\u001b[0m\n",
      "tests/test_decode_the_morse_code.py ..............\n",
      "\n",
      "---------- coverage: platform darwin, python 3.5.0-final-0 -----------\n",
      "Name                            Stmts   Miss  Cover\n",
      "---------------------------------------------------\n",
      "kata/decode_the_morse_code.py      22      0   100%\n",
      "\n",
      "\n",
      "\u001b[32m\u001b[1m========================== 14 passed in 0.05 seconds ===========================\u001b[0m\n",
      "/Users/re4lfl0w/Documents/_git/codewars/kata\n"
     ]
    }
   ],
   "source": [
    "%cd ..\n",
    "!py.test -s tests/test_decode_the_morse_code.py --cov=kata/decode_the_morse_code.py\n",
    "%cd kata"
   ]
  },
  {
   "cell_type": "markdown",
   "metadata": {},
   "source": [
    "### Time Complexity"
   ]
  },
  {
   "cell_type": "code",
   "execution_count": null,
   "metadata": {
    "collapsed": true
   },
   "outputs": [],
   "source": []
  },
  {
   "cell_type": "markdown",
   "metadata": {},
   "source": [
    "## Profile"
   ]
  },
  {
   "cell_type": "code",
   "execution_count": null,
   "metadata": {
    "collapsed": true
   },
   "outputs": [],
   "source": []
  },
  {
   "cell_type": "markdown",
   "metadata": {},
   "source": [
    "## Disassemble"
   ]
  },
  {
   "cell_type": "code",
   "execution_count": null,
   "metadata": {
    "collapsed": true
   },
   "outputs": [],
   "source": []
  },
  {
   "cell_type": "code",
   "execution_count": null,
   "metadata": {
    "collapsed": true
   },
   "outputs": [],
   "source": []
  },
  {
   "cell_type": "markdown",
   "metadata": {},
   "source": [
    "## References\n",
    "\n"
   ]
  }
 ],
 "metadata": {
  "kernelspec": {
   "display_name": "Python 3",
   "language": "python",
   "name": "python3"
  },
  "language_info": {
   "codemirror_mode": {
    "name": "ipython",
    "version": 3
   },
   "file_extension": ".py",
   "mimetype": "text/x-python",
   "name": "python",
   "nbconvert_exporter": "python",
   "pygments_lexer": "ipython3",
   "version": "3.5.0"
  }
 },
 "nbformat": 4,
 "nbformat_minor": 0
}
